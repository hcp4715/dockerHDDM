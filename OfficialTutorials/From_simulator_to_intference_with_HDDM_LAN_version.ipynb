{
 "cells": [
  {
   "cell_type": "markdown",
   "id": "7fae1c57",
   "metadata": {},
   "source": [
    "# From simulator to inference with HDDM (LAN version)"
   ]
  },
  {
   "cell_type": "code",
   "execution_count": null,
   "id": "aec7cd60",
   "metadata": {},
   "outputs": [],
   "source": [
    "# package to help train networks\n",
    "# %pip install git+https://github.com/AlexanderFengler/LANfactory"
   ]
  },
  {
   "cell_type": "code",
   "execution_count": null,
   "id": "8ad25e04",
   "metadata": {},
   "outputs": [],
   "source": [
    "# %conda install --quiet --yes scipy"
   ]
  },
  {
   "cell_type": "code",
   "execution_count": 1,
   "id": "e8b5204c",
   "metadata": {},
   "outputs": [
    {
     "name": "stdout",
     "output_type": "stream",
     "text": [
      "The current version of kabuki is:  0.6.5RC3\n",
      "The current version of HDDM is:  0.9.8RC\n"
     ]
    }
   ],
   "source": [
    "# Package to help train networks (explained above)\n",
    "# import lanfactory\n",
    "\n",
    "# Package containing simulators for ssms (explained above)\n",
    "import ssms\n",
    "\n",
    "# Other misc packages\n",
    "import os\n",
    "import numpy as np\n",
    "from copy import deepcopy\n",
    "import pandas as pd\n",
    "import matplotlib\n",
    "import matplotlib.pyplot as plt\n",
    "import torch\n",
    "\n",
    "import hddm\n",
    "import kabuki\n",
    "print(\"The current version of kabuki is: \", kabuki.__version__)\n",
    "print(\"The current version of HDDM is: \", hddm.__version__)"
   ]
  },
  {
   "cell_type": "code",
   "execution_count": 2,
   "id": "2f6c7b3b",
   "metadata": {},
   "outputs": [
    {
     "data": {
      "text/plain": [
       "{'name': 'ddm',\n",
       " 'params': ['v', 'a', 'z', 't'],\n",
       " 'param_bounds': [[-3.0, 0.3, 0.1, 0.0], [3.0, 2.5, 0.9, 2.0]],\n",
       " 'boundary': <function ssms.basic_simulators.boundary_functions.constant(t=0)>,\n",
       " 'n_params': 4,\n",
       " 'default_params': [0.0, 1.0, 0.5, 0.001],\n",
       " 'hddm_include': ['z'],\n",
       " 'nchoices': 2}"
      ]
     },
     "execution_count": 2,
     "metadata": {},
     "output_type": "execute_result"
    }
   ],
   "source": [
    "# MAKE CONFIGS\n",
    "from ssms.config import data_generator_config\n",
    "\n",
    "# Initialize the generator config (for MLP LANs)\n",
    "\n",
    "# (We start from a supplied example in the ssms package)\n",
    "# generator_config = deepcopy(data_generator_config['lan']['mlp'])\n",
    "generator_config = deepcopy(data_generator_config['lan'])\n",
    "\n",
    "# Specify generative model (one from the list of included models in the ssms package)\n",
    "generator_config['dgp_list'] = 'ddm'\n",
    "\n",
    "# Specify number of parameter sets to simulate\n",
    "generator_config['n_parameter_sets'] = 5000\n",
    "\n",
    "# Specify how many samples a simulation run should entail\n",
    "generator_config['n_samples'] = 2000\n",
    "\n",
    "# Specify how many training examples to extract from\n",
    "# a single parametervector\n",
    "generator_config['n_training_examples_by_parameter_set'] = 2000\n",
    "\n",
    "# Specify folder in which to save generated data\n",
    "generator_config['output_folder'] = 'lan_to_hddm_tmp_data/lan_mlp/'\n",
    "\n",
    "# Make model config dict\n",
    "model_config = ssms.config.model_config['ddm']\n",
    "\n",
    "# Show\n",
    "model_config"
   ]
  },
  {
   "cell_type": "code",
   "execution_count": 3,
   "id": "37a2aac5",
   "metadata": {},
   "outputs": [
    {
     "data": {
      "text/plain": [
       "{'output_folder': 'lan_to_hddm_tmp_data/lan_mlp/',\n",
       " 'dgp_list': 'ddm',\n",
       " 'nbins': 0,\n",
       " 'n_samples': 2000,\n",
       " 'n_parameter_sets': 5000,\n",
       " 'n_parameter_sets_rejected': 100,\n",
       " 'n_training_samples_by_parameter_set': 1000,\n",
       " 'max_t': 20.0,\n",
       " 'delta_t': 0.001,\n",
       " 'pickleprotocol': 4,\n",
       " 'n_cpus': 'all',\n",
       " 'kde_data_mixture_probabilities': [0.8, 0.1, 0.1],\n",
       " 'simulation_filters': {'mode': 20,\n",
       "  'choice_cnt': 0,\n",
       "  'mean_rt': 17,\n",
       "  'std': 0,\n",
       "  'mode_cnt_rel': 0.9},\n",
       " 'negative_rt_cutoff': -66.77497,\n",
       " 'n_subruns': 10,\n",
       " 'bin_pointwise': False,\n",
       " 'separate_response_channels': False,\n",
       " 'n_training_examples_by_parameter_set': 2000}"
      ]
     },
     "execution_count": 3,
     "metadata": {},
     "output_type": "execute_result"
    }
   ],
   "source": [
    "generator_config"
   ]
  },
  {
   "cell_type": "code",
   "execution_count": 4,
   "id": "1169643d",
   "metadata": {},
   "outputs": [
    {
     "name": "stdout",
     "output_type": "stream",
     "text": [
      "n_cpus used:  16\n",
      "checking:  lan_to_hddm_tmp_data/lan_mlp/\n",
      "simulation round: 1  of 10\n",
      "simulation round: 2  of 10\n",
      "simulation round: 3  of 10\n",
      "simulation round: 4  of 10\n",
      "simulation round: 5  of 10\n",
      "simulation round: 6  of 10\n",
      "simulation round: 7  of 10\n",
      "simulation round: 8  of 10\n",
      "simulation round: 9  of 10\n",
      "simulation round: 10  of 10\n",
      "Writing to file:  lan_to_hddm_tmp_data/lan_mlp//training_data_c8152ce64cbe11eeb9be0242ac110002.pickle\n"
     ]
    }
   ],
   "source": [
    "my_dataset_generator = ssms.dataset_generators.data_generator(generator_config = generator_config,\n",
    "                                                              model_config = model_config)\n",
    "\n",
    "training_data = my_dataset_generator.generate_data_training_uniform(save = True)"
   ]
  },
  {
   "cell_type": "code",
   "execution_count": 6,
   "id": "bef8437e",
   "metadata": {},
   "outputs": [],
   "source": [
    "import pickle\n",
    "import glob"
   ]
  },
  {
   "cell_type": "code",
   "execution_count": 8,
   "id": "458b4c82",
   "metadata": {},
   "outputs": [],
   "source": [
    "# load the file from the path in the above \"writing to file\"\n",
    "fn = glob.glob('lan_to_hddm_tmp_data/lan_mlp/training_data_*.pickle')[0]\n",
    "tmp_data = pickle.load(open(fn, \"rb\"))"
   ]
  },
  {
   "cell_type": "markdown",
   "id": "2f6fa983",
   "metadata": {},
   "source": [
    "Structure of training data:\n",
    "`data`: Simulated data. Last column is choice and second to last it RT. Columns before are parameters that generated the observation. Has shape (`n_parameter_sets` x `n_training_samples_by_parameter_set`, `n_params` + 2)\n",
    "`labels`: KDE of likelihood of simulated data. Used (?) as the labels to train the network. Has shape (`n_parameter_sets` x `n_training_samples_by_parameter_set`,)\n",
    "`choice_p`: Thought these would be choice proportions for each parameter combination but they don't seem to match the proportions in simulated data.\n",
    "`thetas`: Parameter combinations used to generate simulated data. Has shape (`n_parameter_sets` x `n_params`)\n",
    "`binned_128`:\n",
    "`binned_256`:\n",
    "`generator_config`: Same as defined above\n",
    "`model_config`: Same as defined above"
   ]
  },
  {
   "cell_type": "code",
   "execution_count": 9,
   "id": "71a59991",
   "metadata": {},
   "outputs": [
    {
     "data": {
      "text/plain": [
       "dict_keys(['choice_p', 'thetas', 'data', 'labels', 'binned_128', 'binned_256', 'generator_config', 'model_config'])"
      ]
     },
     "execution_count": 9,
     "metadata": {},
     "output_type": "execute_result"
    }
   ],
   "source": [
    "tmp_data.keys()"
   ]
  },
  {
   "cell_type": "code",
   "execution_count": 12,
   "id": "2e47eb0d",
   "metadata": {},
   "outputs": [
    {
     "data": {
      "text/plain": [
       "(5000000, 6)"
      ]
     },
     "execution_count": 12,
     "metadata": {},
     "output_type": "execute_result"
    }
   ],
   "source": [
    "tmp_data['data'].shape"
   ]
  },
  {
   "cell_type": "code",
   "execution_count": 13,
   "id": "73a35cb4",
   "metadata": {},
   "outputs": [
    {
     "data": {
      "text/plain": [
       "array([[ 2.0440383 ,  0.6749416 ,  0.26108888,  0.7104942 ,  0.7761945 ,\n",
       "        -1.        ],\n",
       "       [ 2.0440383 ,  0.6749416 ,  0.26108888,  0.7104942 ,  0.8448164 ,\n",
       "        -1.        ],\n",
       "       [ 2.0440383 ,  0.6749416 ,  0.26108888,  0.7104942 ,  0.96022606,\n",
       "        -1.        ],\n",
       "       ...,\n",
       "       [ 1.661538  ,  1.1325556 ,  0.39515117,  1.0271734 , -0.4388159 ,\n",
       "         1.        ],\n",
       "       [ 1.661538  ,  1.1325556 ,  0.39515117,  1.0271734 , -0.39438146,\n",
       "         1.        ],\n",
       "       [ 1.661538  ,  1.1325556 ,  0.39515117,  1.0271734 , -0.6795651 ,\n",
       "        -1.        ]], dtype=float32)"
      ]
     },
     "execution_count": 13,
     "metadata": {},
     "output_type": "execute_result"
    }
   ],
   "source": [
    "tmp_data['data']"
   ]
  },
  {
   "cell_type": "code",
   "execution_count": 14,
   "id": "5e47a7de",
   "metadata": {},
   "outputs": [
    {
     "data": {
      "text/plain": [
       "array([[ 2.0440383 ,  0.6749416 ,  0.26108888,  0.7104942 ],\n",
       "       [-0.28348017,  0.7987422 ,  0.5175242 ,  1.8094993 ],\n",
       "       [-0.56471467,  1.6077766 ,  0.734911  ,  0.21645936],\n",
       "       ...,\n",
       "       [-1.7363902 ,  0.66483974,  0.7337445 ,  1.2708806 ],\n",
       "       [-2.7766917 ,  0.6942194 ,  0.537876  ,  0.00480382],\n",
       "       [ 1.661538  ,  1.1325556 ,  0.39515117,  1.0271734 ]],\n",
       "      dtype=float32)"
      ]
     },
     "execution_count": 14,
     "metadata": {},
     "output_type": "execute_result"
    }
   ],
   "source": [
    "tmp_data['thetas']"
   ]
  },
  {
   "cell_type": "code",
   "execution_count": 15,
   "id": "4e588e7e",
   "metadata": {},
   "outputs": [
    {
     "data": {
      "text/plain": [
       "(5000, 4)"
      ]
     },
     "execution_count": 15,
     "metadata": {},
     "output_type": "execute_result"
    }
   ],
   "source": [
    "tmp_data['thetas'].shape"
   ]
  },
  {
   "cell_type": "code",
   "execution_count": 16,
   "id": "c109dbdd",
   "metadata": {},
   "outputs": [
    {
     "data": {
      "text/plain": [
       "array([-3.6185194e-02, -3.9398038e-01, -1.4324259e+00, ...,\n",
       "       -6.6774971e+01, -6.6774971e+01, -6.6774971e+01], dtype=float32)"
      ]
     },
     "execution_count": 16,
     "metadata": {},
     "output_type": "execute_result"
    }
   ],
   "source": [
    "# kde of likelihood for simulated data OR max negative RT\n",
    "# called \"label\" because (?) used as labels for training the network    \n",
    "tmp_data['labels']"
   ]
  },
  {
   "cell_type": "code",
   "execution_count": 17,
   "id": "4bd74a2f",
   "metadata": {},
   "outputs": [
    {
     "data": {
      "text/plain": [
       "(5000000,)"
      ]
     },
     "execution_count": 17,
     "metadata": {},
     "output_type": "execute_result"
    }
   ],
   "source": [
    "tmp_data['labels'].shape"
   ]
  },
  {
   "cell_type": "code",
   "execution_count": 18,
   "id": "b51705b0",
   "metadata": {},
   "outputs": [
    {
     "data": {
      "text/plain": [
       "array([0.7845, 0.385 , 0.38  , ..., 0.275 , 0.0235, 0.9515], dtype=float32)"
      ]
     },
     "execution_count": 18,
     "metadata": {},
     "output_type": "execute_result"
    }
   ],
   "source": [
    "tmp_data['choice_p']"
   ]
  },
  {
   "cell_type": "code",
   "execution_count": 19,
   "id": "34636663",
   "metadata": {},
   "outputs": [
    {
     "data": {
      "text/plain": [
       "(5000,)"
      ]
     },
     "execution_count": 19,
     "metadata": {},
     "output_type": "execute_result"
    }
   ],
   "source": [
    "tmp_data['choice_p'].shape"
   ]
  },
  {
   "cell_type": "code",
   "execution_count": 20,
   "id": "f78610e0",
   "metadata": {},
   "outputs": [
    {
     "data": {
      "text/plain": [
       "0.734"
      ]
     },
     "execution_count": 20,
     "metadata": {},
     "output_type": "execute_result"
    }
   ],
   "source": [
    "[i[5] for i in tmp_data['data'][0:1000,]].count(1)/1000"
   ]
  },
  {
   "cell_type": "code",
   "execution_count": 21,
   "id": "1ff2dcc8",
   "metadata": {},
   "outputs": [
    {
     "data": {
      "text/plain": [
       "0.129"
      ]
     },
     "execution_count": 21,
     "metadata": {},
     "output_type": "execute_result"
    }
   ],
   "source": [
    "[i[5] for i in tmp_data['data'][(5000000-(999*2)+1):(5000000-999),]].count(1)/1000"
   ]
  }
 ],
 "metadata": {
  "kernelspec": {
   "display_name": "Python 3 (ipykernel)",
   "language": "python",
   "name": "python3"
  },
  "language_info": {
   "codemirror_mode": {
    "name": "ipython",
    "version": 3
   },
   "file_extension": ".py",
   "mimetype": "text/x-python",
   "name": "python",
   "nbconvert_exporter": "python",
   "pygments_lexer": "ipython3",
   "version": "3.8.13"
  }
 },
 "nbformat": 4,
 "nbformat_minor": 5
}
